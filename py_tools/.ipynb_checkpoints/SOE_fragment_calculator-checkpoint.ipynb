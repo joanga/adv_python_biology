{
 "cells": [
  {
   "cell_type": "code",
   "execution_count": 59,
   "metadata": {
    "collapsed": true
   },
   "outputs": [],
   "source": [
    "from Bio.Seq import Seq\n",
    "from Bio.Alphabet import IUPAC\n",
    "from Bio.SeqUtils import GC"
   ]
  },
  {
   "cell_type": "code",
   "execution_count": 60,
   "metadata": {
    "collapsed": false
   },
   "outputs": [],
   "source": [
    "#getting user input on what are the sequences to be joined\n",
    "\n",
    "#seq_1 = input(\"What is the 1st sequence to be joined?\")\n",
    "#seq_2 = input(\"What is the 2nd sequence to be joined?\")\n",
    "seq_1 = \"ATGCATGCGT\"\n",
    "seq_2 = \"ATGC\""
   ]
  },
  {
   "cell_type": "code",
   "execution_count": 61,
   "metadata": {
    "collapsed": false
   },
   "outputs": [],
   "source": [
    "seq1_len = len(seq_1)\n",
    "seq2_len = len(seq_2)\n"
   ]
  },
  {
   "cell_type": "code",
   "execution_count": 62,
   "metadata": {
    "collapsed": false
   },
   "outputs": [],
   "source": [
    "if seq1_len > seq2_len:\n",
    "    base_seq = seq_1\n",
    "    short_seq = seq_2\n",
    "elif seq2_len > seq1_len:\n",
    "    base_seq = seq_2\n",
    "    short_seq = seq_1\n",
    "\n",
    "base_mw = len(base_seq)*660\n",
    "short_mw = len(short_seq)*660"
   ]
  },
  {
   "cell_type": "code",
   "execution_count": 63,
   "metadata": {
    "collapsed": false
   },
   "outputs": [],
   "source": [
    "#calculate the nanograms to match at the molar level the longest fragment, default for long fragment is 100 nanograms\n",
    "base_pmols = ((100/10**9)/(base_mw))*(10**12)\n",
    "nanograms_short = (base_pmols/(10**12))*(short_mw)*(10**9)"
   ]
  },
  {
   "cell_type": "code",
   "execution_count": 64,
   "metadata": {
    "collapsed": false
   },
   "outputs": [
    {
     "name": "stdout",
     "output_type": "stream",
     "text": [
      "15.15151515151515\n",
      "40.0\n"
     ]
    }
   ],
   "source": [
    "print(base_pmols)\n",
    "print (nanograms_short)"
   ]
  }
 ],
 "metadata": {
  "anaconda-cloud": {},
  "kernelspec": {
   "display_name": "Python [default]",
   "language": "python",
   "name": "python3"
  },
  "language_info": {
   "codemirror_mode": {
    "name": "ipython",
    "version": 3
   },
   "file_extension": ".py",
   "mimetype": "text/x-python",
   "name": "python",
   "nbconvert_exporter": "python",
   "pygments_lexer": "ipython3",
   "version": "3.5.2"
  }
 },
 "nbformat": 4,
 "nbformat_minor": 1
}
