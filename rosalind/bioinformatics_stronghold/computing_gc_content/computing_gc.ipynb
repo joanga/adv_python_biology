{
 "cells": [
  {
   "cell_type": "code",
   "execution_count": 103,
   "metadata": {
    "collapsed": true
   },
   "outputs": [],
   "source": [
    "import sys\n",
    "sys.path.append('/Users/jmarcano/miniconda3/lib/python3.5/site-packages')\n",
    "from Bio import SeqIO"
   ]
  },
  {
   "cell_type": "code",
   "execution_count": 104,
   "metadata": {
    "collapsed": false,
    "scrolled": false
   },
   "outputs": [],
   "source": [
    "gc_list = []\n",
    "id_gc_list = []\n",
    "for seq_record in SeqIO.parse(\"rosalind_gc.txt\",\"fasta\"):\n",
    "    seq = seq_record.seq\n",
    "    seq_length = len(seq_record.seq)\n",
    "    seq_g_count = seq.count(\"G\")\n",
    "    seq_c_count = seq.count(\"C\")\n",
    "    seq_gc_content = ((seq_g_count + seq_c_count)/seq_length)*100\n",
    "    gc_list.append(round(seq_gc_content, 6))\n",
    "    id_gc = (seq_record.id, round(seq_gc_content, 6))\n",
    "    id_gc_list.append(id_gc)\n",
    "    #print (seq_record.id)\n",
    "    #print (repr(seq_record.seq))\n",
    "    #you can also just print the sequence with print(seq_record.seq)\n",
    "sorted_gc_list = sorted(gc_list, reverse=True)\n",
    "#print (gc_list)\n",
    "#print (sorted_gc_list)\n",
    "#print (id_gc_list)"
   ]
  },
  {
   "cell_type": "code",
   "execution_count": 105,
   "metadata": {
    "collapsed": false,
    "scrolled": true
   },
   "outputs": [
    {
     "name": "stdout",
     "output_type": "stream",
     "text": [
      "[53.678756, 51.812367, 51.425662, 50.943396, 48.72093, 48.46765, 47.749726, 47.385272]\n"
     ]
    }
   ],
   "source": [
    "dictionary = {key:value for (key,value) in id_gc_list}\n",
    "gc_values = []\n",
    "for key,values in dictionary.items():\n",
    "    gc_values.append(values)\n",
    "    sorted_gc_values = sorted(gc_values, reverse=True)\n",
    "print (sorted_gc_values)\n"
   ]
  },
  {
   "cell_type": "code",
   "execution_count": 106,
   "metadata": {
    "collapsed": false
   },
   "outputs": [
    {
     "name": "stdout",
     "output_type": "stream",
     "text": [
      "Rosalind_3709\n",
      "53.678756\n"
     ]
    }
   ],
   "source": [
    "for key,values in dictionary.items():\n",
    "    if sorted_gc_values[0] == values:\n",
    "        print (key + \"\\n\" + str(sorted_gc_values[0]))"
   ]
  },
  {
   "cell_type": "code",
   "execution_count": null,
   "metadata": {
    "collapsed": true
   },
   "outputs": [],
   "source": []
  }
 ],
 "metadata": {
  "kernelspec": {
   "display_name": "Python 3",
   "language": "python",
   "name": "python3"
  },
  "language_info": {
   "codemirror_mode": {
    "name": "ipython",
    "version": 3
   },
   "file_extension": ".py",
   "mimetype": "text/x-python",
   "name": "python",
   "nbconvert_exporter": "python",
   "pygments_lexer": "ipython3",
   "version": "3.5.1"
  }
 },
 "nbformat": 4,
 "nbformat_minor": 0
}
