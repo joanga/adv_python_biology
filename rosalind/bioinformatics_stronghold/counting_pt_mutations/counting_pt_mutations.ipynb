{
 "cells": [
  {
   "cell_type": "code",
   "execution_count": 49,
   "metadata": {
    "collapsed": true
   },
   "outputs": [],
   "source": [
    "import sys\n",
    "sys.path.append('/Users/jmarcano/miniconda3/lib/python3.5/site-packages')\n",
    "from Bio import SeqIO"
   ]
  },
  {
   "cell_type": "code",
   "execution_count": 52,
   "metadata": {
    "collapsed": false
   },
   "outputs": [],
   "source": [
    "seq_file = open(\"rosalind_hamm.txt\",\"r\").read().split(\"\\n\")\n",
    "\n",
    "\n",
    "seq1 = seq_file[0]\n",
    "seq2 = seq_file[1]\n",
    "#print (seq1)\n",
    "#print (seq2)\n",
    "#print (seq_file[0])\n",
    "#print (seq_file[1])\n",
    "#for line in seq_file:\n",
    "    #line.rstrip(\"\\n\")\n",
    "    #print (line)"
   ]
  },
  {
   "cell_type": "code",
   "execution_count": 51,
   "metadata": {
    "collapsed": false
   },
   "outputs": [
    {
     "name": "stdout",
     "output_type": "stream",
     "text": [
      "473\n"
     ]
    }
   ],
   "source": [
    "counter = 0\n",
    "seq2_iter = 0\n",
    "for nt1 in seq1:\n",
    "    if nt1 != seq2[seq2_iter]:\n",
    "            counter = counter + 1\n",
    "    seq2_iter = seq2_iter + 1\n",
    "print (counter)\n",
    "        \n"
   ]
  },
  {
   "cell_type": "code",
   "execution_count": null,
   "metadata": {
    "collapsed": true
   },
   "outputs": [],
   "source": [
    "#this could have been done with the zip function that iterates over two lists "
   ]
  }
 ],
 "metadata": {
  "kernelspec": {
   "display_name": "Python 3",
   "language": "python",
   "name": "python3"
  },
  "language_info": {
   "codemirror_mode": {
    "name": "ipython",
    "version": 3
   },
   "file_extension": ".py",
   "mimetype": "text/x-python",
   "name": "python",
   "nbconvert_exporter": "python",
   "pygments_lexer": "ipython3",
   "version": "3.5.1"
  }
 },
 "nbformat": 4,
 "nbformat_minor": 0
}
